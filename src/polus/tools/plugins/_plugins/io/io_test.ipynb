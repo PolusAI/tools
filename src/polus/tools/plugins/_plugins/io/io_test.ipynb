{
 "cells": [
  {
   "cell_type": "code",
   "execution_count": 1,
   "metadata": {},
   "outputs": [],
   "source": [
    "import re"
   ]
  },
  {
   "cell_type": "code",
   "execution_count": 2,
   "metadata": {},
   "outputs": [],
   "source": [
    "r = re.compile(r\"^(?P<major>0|[1-9]\\d*)\\.(?P<minor>0|[1-9]\\d*)\\.(?P<patch>0|[1-9]\\d*)(?:-(?P<prerelease>(?:0|[1-9]\\d*|\\d*[a-zA-Z-][0-9a-zA-Z-]*)(?:\\.(?:0|[1-9]\\d*|\\d*[a-zA-Z-][0-9a-zA-Z-]*))*))?(?:\\+(?P<buildmetadata>[0-9a-zA-Z-]+(?:\\.[0-9a-zA-Z-]+)*))?$\")"
   ]
  },
  {
   "cell_type": "code",
   "execution_count": 6,
   "metadata": {},
   "outputs": [],
   "source": [
    "s = [\"1.0.2\", \"0.0.43\", \"2.2.9\", \"1.0.0-dev\", \"1.0.0-dev.2\", \"1.2.0-alpha.beta\", \"2.02.1\"]"
   ]
  },
  {
   "cell_type": "code",
   "execution_count": 9,
   "metadata": {},
   "outputs": [
    {
     "name": "stdout",
     "output_type": "stream",
     "text": [
      "1.0.2 True\n",
      "{'major': '1', 'minor': '0', 'patch': '2', 'prerelease': None, 'buildmetadata': None}\n",
      "0.0.43 True\n",
      "{'major': '0', 'minor': '0', 'patch': '43', 'prerelease': None, 'buildmetadata': None}\n",
      "2.2.9 True\n",
      "{'major': '2', 'minor': '2', 'patch': '9', 'prerelease': None, 'buildmetadata': None}\n",
      "1.0.0-dev True\n",
      "{'major': '1', 'minor': '0', 'patch': '0', 'prerelease': 'dev', 'buildmetadata': None}\n",
      "1.0.0-dev.2 True\n",
      "{'major': '1', 'minor': '0', 'patch': '0', 'prerelease': 'dev.2', 'buildmetadata': None}\n",
      "1.2.0-alpha.beta True\n",
      "{'major': '1', 'minor': '2', 'patch': '0', 'prerelease': 'alpha.beta', 'buildmetadata': None}\n",
      "2.02.1 False\n"
     ]
    }
   ],
   "source": [
    "for x in s:\n",
    "    m = r.match(x)\n",
    "    print(x, bool(m))\n",
    "    if bool(m):\n",
    "        print(m.groupdict())"
   ]
  },
  {
   "cell_type": "code",
   "execution_count": null,
   "metadata": {},
   "outputs": [],
   "source": []
  }
 ],
 "metadata": {
  "kernelspec": {
   "display_name": "tools",
   "language": "python",
   "name": "python3"
  },
  "language_info": {
   "codemirror_mode": {
    "name": "ipython",
    "version": 3
   },
   "file_extension": ".py",
   "mimetype": "text/x-python",
   "name": "python",
   "nbconvert_exporter": "python",
   "pygments_lexer": "ipython3",
   "version": "3.10.13"
  }
 },
 "nbformat": 4,
 "nbformat_minor": 2
}
